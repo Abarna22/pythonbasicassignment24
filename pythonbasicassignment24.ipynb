{
 "cells": [
  {
   "cell_type": "code",
   "execution_count": 8,
   "id": "646c4927",
   "metadata": {},
   "outputs": [
    {
     "data": {
      "text/plain": [
       "[1, 2, 3, 40]"
      ]
     },
     "execution_count": 8,
     "metadata": {},
     "output_type": "execute_result"
    }
   ],
   "source": [
    "#qp1\n",
    "\n",
    "def amplify(n):\n",
    "    rl=[]\n",
    "    for i in range(1,n+1):\n",
    "        if i%4==0:\n",
    "            x=i*10\n",
    "            rl.append(x)\n",
    "        else:\n",
    "            rl.append(i)\n",
    "    return rl\n",
    "\n",
    "amplify(4)"
   ]
  },
  {
   "cell_type": "code",
   "execution_count": 10,
   "id": "b41a33c3",
   "metadata": {},
   "outputs": [
    {
     "name": "stdout",
     "output_type": "stream",
     "text": [
      "7\n"
     ]
    }
   ],
   "source": [
    "#qp2\n",
    "\n",
    "def unique(l):\n",
    "    for i in l:\n",
    "        if l.count(i)==1:\n",
    "            print(i)\n",
    "            \n",
    "unique([3,3,3,3,7,3,3,3])"
   ]
  },
  {
   "cell_type": "code",
   "execution_count": 11,
   "id": "e1852d8c",
   "metadata": {},
   "outputs": [
    {
     "name": "stdout",
     "output_type": "stream",
     "text": [
      "0.77\n"
     ]
    }
   ],
   "source": [
    "unique([0, 0, 0.77, 0, 0])"
   ]
  },
  {
   "cell_type": "code",
   "execution_count": 12,
   "id": "8d1db929",
   "metadata": {},
   "outputs": [
    {
     "name": "stdout",
     "output_type": "stream",
     "text": [
      "0\n"
     ]
    }
   ],
   "source": [
    "unique([0, 1, 1, 1, 1, 1, 1, 1])"
   ]
  },
  {
   "cell_type": "code",
   "execution_count": 19,
   "id": "6b44b0c1",
   "metadata": {},
   "outputs": [
    {
     "name": "stdout",
     "output_type": "stream",
     "text": [
      "379.94\n",
      "69.08\n"
     ]
    }
   ],
   "source": [
    "class circy:\n",
    "    def __init__(self,radius):\n",
    "        self.r=radius\n",
    "    \n",
    "    def area(self):\n",
    "        return self.r**2*3.14\n",
    "    \n",
    "    def perimeter(self):\n",
    "        return 2*self.r*3.14\n",
    "    \n",
    "circle=circy(11)\n",
    "print(circle.area())\n",
    "print(circle.perimeter())\n",
    "    "
   ]
  },
  {
   "cell_type": "code",
   "execution_count": 20,
   "id": "94791163",
   "metadata": {},
   "outputs": [
    {
     "name": "stdout",
     "output_type": "stream",
     "text": [
      "27.883200000000002\n"
     ]
    }
   ],
   "source": [
    "circle=circy(4.44)\n",
    "\n",
    "print(circle.perimeter())"
   ]
  },
  {
   "cell_type": "code",
   "execution_count": 23,
   "id": "e7d608aa",
   "metadata": {},
   "outputs": [
    {
     "data": {
      "text/plain": [
       "['Apple', 'Google', 'Microsoft']"
      ]
     },
     "execution_count": 23,
     "metadata": {},
     "output_type": "execute_result"
    }
   ],
   "source": [
    "#qp4\n",
    "\n",
    "def sort_by_len(l):\n",
    "    sl=list(sorted(l,key=len))\n",
    "    return sl\n",
    "\n",
    "sort_by_len([\"Google\", \"Apple\", \"Microsoft\"])"
   ]
  },
  {
   "cell_type": "code",
   "execution_count": 24,
   "id": "36ee618a",
   "metadata": {},
   "outputs": [
    {
     "data": {
      "text/plain": [
       "['Raphael', 'Leonardo', 'Donatello', 'Michelangelo']"
      ]
     },
     "execution_count": 24,
     "metadata": {},
     "output_type": "execute_result"
    }
   ],
   "source": [
    "sort_by_len([\"Leonardo\", \"Michelangelo\", \"Raphael\", \"Donatello\"])"
   ]
  },
  {
   "cell_type": "code",
   "execution_count": 27,
   "id": "f01ee3e6",
   "metadata": {},
   "outputs": [
    {
     "data": {
      "text/plain": [
       "['Apple', 'Google', 'orange', 'Microsoft']"
      ]
     },
     "execution_count": 27,
     "metadata": {},
     "output_type": "execute_result"
    }
   ],
   "source": [
    "\n",
    "sort_by_len([\"Google\", \"Apple\", \"orange\",\"Microsoft\"])\n"
   ]
  },
  {
   "cell_type": "code",
   "execution_count": 38,
   "id": "767050af",
   "metadata": {},
   "outputs": [
    {
     "name": "stdout",
     "output_type": "stream",
     "text": [
      "1 2 3\n"
     ]
    },
    {
     "data": {
      "text/plain": [
       "False"
      ]
     },
     "execution_count": 38,
     "metadata": {},
     "output_type": "execute_result"
    }
   ],
   "source": [
    "#qp5\n",
    "\n",
    "def is_triplet(n):\n",
    "    a,b,c=sorted(n)\n",
    "    if a**2+b**2==c**2:\n",
    "        return True\n",
    "    else:\n",
    "        return False\n",
    "\n",
    "it_num = list(map(int,input().split()))\n",
    "is_triplet(it_num)"
   ]
  },
  {
   "cell_type": "code",
   "execution_count": null,
   "id": "53a35502",
   "metadata": {},
   "outputs": [],
   "source": []
  }
 ],
 "metadata": {
  "kernelspec": {
   "display_name": "Python 3 (ipykernel)",
   "language": "python",
   "name": "python3"
  },
  "language_info": {
   "codemirror_mode": {
    "name": "ipython",
    "version": 3
   },
   "file_extension": ".py",
   "mimetype": "text/x-python",
   "name": "python",
   "nbconvert_exporter": "python",
   "pygments_lexer": "ipython3",
   "version": "3.9.12"
  }
 },
 "nbformat": 4,
 "nbformat_minor": 5
}
